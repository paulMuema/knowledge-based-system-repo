{
 "cells": [
  {
   "cell_type": "code",
   "execution_count": 27,
   "metadata": {},
   "outputs": [
    {
     "name": "stdout",
     "output_type": "stream",
     "text": [
      "Welcome to the Medical Diagnosis Knowledge-Based System\n",
      "Possible symptoms: Common Cold, Flu, Pneumonia, Tuberculosis, Allergies, cough, sneezing, fever\n",
      "\n",
      "Enter symptoms (comma separated):\n",
      "Possible diagnoses:\n",
      "- Flu: antiviral medication\n",
      "- Pneumonia: antibiotics\n"
     ]
    }
   ],
   "source": [
    "class KnowledgeBase:\n",
    "    def __init__(self):\n",
    "        self.diseases = {\n",
    "            \"Common Cold\": {\"symptoms\": [\"cough\", \"sneezing\", \"sore throat\"], \"treatment\": \"rest and hydration\"},\n",
    "            \"Flu\": {\"symptoms\": [\"fever\", \"fatigue\", \"body aches\"], \"treatment\": \"antiviral medication\"},\n",
    "            \"Pneumonia\": {\"symptoms\": [\"chest pain\", \"cough\", \"fever\"], \"treatment\": \"antibiotics\"},\n",
    "            \"Tuberculosis\": {\"symptoms\": [\"cough with blood\", \"fatigue\", \"weight loss\"], \"treatment\": \"antibiotics\"},\n",
    "            \"Allergies\": {\"symptoms\": [\"sneezing\", \"itchy eyes\", \"rash\"], \"treatment\": \"antihistamines\"}\n",
    "        }\n",
    "\n",
    "        self.relationships = {\n",
    "            \"Common Cold\": [\"Flu\", \"Allergies\"],\n",
    "            \"Flu\": [\"Common Cold\", \"Pneumonia\"],\n",
    "            \"Pneumonia\": [\"Flu\"],\n",
    "            \"Tuberculosis\": [],\n",
    "            \"Allergies\": [\"Common Cold\"],\n",
    "            \"cough\": [\"Common Cold\", \"Flu\", \"Pneumonia\", \"Tuberculosis\"],\n",
    "            \"sneezing\": [\"Common Cold\", \"Flu\", \"Allergies\"],\n",
    "            \"fever\": [\"Flu\", \"Pneumonia\"]\n",
    "        }\n",
    "\n",
    "    def diagnose(self, symptoms):\n",
    "        possible_diseases = {}\n",
    "        for symptom in symptoms:\n",
    "            for disease in self.relationships.get(symptom, []):\n",
    "                possible_diseases[disease] = possible_diseases.get(disease, 0) + 1\n",
    "\n",
    "        # Sort diseases by the number of matching symptoms (most relevant first)\n",
    "        sorted_diseases = sorted(possible_diseases.items(), key=lambda x: x[1], reverse=True)\n",
    "\n",
    "        return [disease for disease, _ in sorted_diseases]\n",
    "\n",
    "# Interactive mode\n",
    "kb = KnowledgeBase()\n",
    "print(\"Welcome to the Medical Diagnosis Knowledge-Based System\")\n",
    "print(\"Possible symptoms:\", \", \".join(kb.relationships.keys()))\n",
    "print(\"\\nEnter symptoms (comma separated):\")\n",
    "user_input = input(\">\").lower().split(\",\")\n",
    "\n",
    "symptoms = [symptom.strip() for symptom in user_input]\n",
    "diagnoses = kb.diagnose(symptoms)\n",
    "\n",
    "if diagnoses:\n",
    "    print(\"Possible diagnoses:\")\n",
    "    for disease in diagnoses:\n",
    "        print(f\"- {disease}: {kb.diseases[disease]['treatment']}\")\n",
    "else:\n",
    "    print(\"No diagnoses found. Please consult a doctor.\")"
   ]
  }
 ],
 "metadata": {
  "kernelspec": {
   "display_name": "Python 3",
   "language": "python",
   "name": "python3"
  },
  "language_info": {
   "codemirror_mode": {
    "name": "ipython",
    "version": 3
   },
   "file_extension": ".py",
   "mimetype": "text/x-python",
   "name": "python",
   "nbconvert_exporter": "python",
   "pygments_lexer": "ipython3",
   "version": "3.13.1"
  }
 },
 "nbformat": 4,
 "nbformat_minor": 2
}
