{
 "cells": [
  {
   "cell_type": "code",
   "execution_count": 1,
   "metadata": {},
   "outputs": [
    {
     "ename": "ModuleNotFoundError",
     "evalue": "No module named 'networkx'",
     "output_type": "error",
     "traceback": [
      "\u001b[31m---------------------------------------------------------------------------\u001b[39m",
      "\u001b[31mModuleNotFoundError\u001b[39m                       Traceback (most recent call last)",
      "\u001b[36mCell\u001b[39m\u001b[36m \u001b[39m\u001b[32mIn[1]\u001b[39m\u001b[32m, line 3\u001b[39m\n\u001b[32m      1\u001b[39m \u001b[38;5;28;01mimport\u001b[39;00m\u001b[38;5;250m \u001b[39m\u001b[34;01mnumpy\u001b[39;00m\u001b[38;5;250m \u001b[39m\u001b[38;5;28;01mas\u001b[39;00m\u001b[38;5;250m \u001b[39m\u001b[34;01mnp\u001b[39;00m\n\u001b[32m      2\u001b[39m \u001b[38;5;28;01mimport\u001b[39;00m\u001b[38;5;250m \u001b[39m\u001b[34;01mskfuzzy\u001b[39;00m\u001b[38;5;250m \u001b[39m\u001b[38;5;28;01mas\u001b[39;00m\u001b[38;5;250m \u001b[39m\u001b[34;01mfuzz\u001b[39;00m\n\u001b[32m----> \u001b[39m\u001b[32m3\u001b[39m \u001b[38;5;28;01mfrom\u001b[39;00m\u001b[38;5;250m \u001b[39m\u001b[34;01mskfuzzy\u001b[39;00m\u001b[38;5;250m \u001b[39m\u001b[38;5;28;01mimport\u001b[39;00m control \u001b[38;5;28;01mas\u001b[39;00m ctrl\n\u001b[32m      4\u001b[39m \u001b[38;5;28;01mimport\u001b[39;00m\u001b[38;5;250m \u001b[39m\u001b[34;01mmatplotlib\u001b[39;00m\u001b[34;01m.\u001b[39;00m\u001b[34;01mpyplot\u001b[39;00m\u001b[38;5;250m \u001b[39m\u001b[38;5;28;01mas\u001b[39;00m\u001b[38;5;250m \u001b[39m\u001b[34;01mplt\u001b[39;00m  \u001b[38;5;66;03m# Import matplotlib\u001b[39;00m\n\u001b[32m      6\u001b[39m \u001b[38;5;66;03m# Define fuzzy variables\u001b[39;00m\n",
      "\u001b[36mFile \u001b[39m\u001b[32m~\\AppData\\Local\\Packages\\PythonSoftwareFoundation.Python.3.13_qbz5n2kfra8p0\\LocalCache\\local-packages\\Python313\\site-packages\\skfuzzy\\control\\__init__.py:19\u001b[39m\n\u001b[32m      1\u001b[39m \u001b[33;03m\"\"\"\u001b[39;00m\n\u001b[32m      2\u001b[39m \u001b[33;03mskfuzzy.control subpackage, providing a high-level API for fuzzy system design.\u001b[39;00m\n\u001b[32m      3\u001b[39m \n\u001b[32m      4\u001b[39m \u001b[33;03m\"\"\"\u001b[39;00m\n\u001b[32m      6\u001b[39m __all__ = [\u001b[33m'\u001b[39m\u001b[33mAntecedent\u001b[39m\u001b[33m'\u001b[39m,\n\u001b[32m      7\u001b[39m            \u001b[33m'\u001b[39m\u001b[33mConsequent\u001b[39m\u001b[33m'\u001b[39m,\n\u001b[32m      8\u001b[39m            \u001b[33m'\u001b[39m\u001b[33mCrispValueCalculatorError\u001b[39m\u001b[33m'\u001b[39m,\n\u001b[32m   (...)\u001b[39m\u001b[32m     16\u001b[39m            \u001b[33m'\u001b[39m\u001b[33maccumulation_mult\u001b[39m\u001b[33m'\u001b[39m,\n\u001b[32m     17\u001b[39m            ]\n\u001b[32m---> \u001b[39m\u001b[32m19\u001b[39m \u001b[38;5;28;01mfrom\u001b[39;00m\u001b[38;5;250m \u001b[39m\u001b[34;01m.\u001b[39;00m\u001b[34;01mantecedent_consequent\u001b[39;00m\u001b[38;5;250m \u001b[39m\u001b[38;5;28;01mimport\u001b[39;00m (Antecedent, Consequent,\n\u001b[32m     20\u001b[39m                                     accumulation_max, accumulation_mult)\n\u001b[32m     21\u001b[39m \u001b[38;5;28;01mfrom\u001b[39;00m\u001b[38;5;250m \u001b[39m\u001b[34;01m.\u001b[39;00m\u001b[34;01mcontrolsystem\u001b[39;00m\u001b[38;5;250m \u001b[39m\u001b[38;5;28;01mimport\u001b[39;00m ControlSystem, ControlSystemSimulation\n\u001b[32m     22\u001b[39m \u001b[38;5;28;01mfrom\u001b[39;00m\u001b[38;5;250m \u001b[39m\u001b[34;01m.\u001b[39;00m\u001b[34;01mexceptions\u001b[39;00m\u001b[38;5;250m \u001b[39m\u001b[38;5;28;01mimport\u001b[39;00m (CrispValueCalculatorError, DefuzzifyError,\n\u001b[32m     23\u001b[39m                          EmptyMembershipError, NoTermMembershipsError)\n",
      "\u001b[36mFile \u001b[39m\u001b[32m~\\AppData\\Local\\Packages\\PythonSoftwareFoundation.Python.3.13_qbz5n2kfra8p0\\LocalCache\\local-packages\\Python313\\site-packages\\skfuzzy\\control\\antecedent_consequent.py:4\u001b[39m\n\u001b[32m      1\u001b[39m \u001b[33;03m\"\"\"\u001b[39;00m\n\u001b[32m      2\u001b[39m \u001b[33;03mantecedent_consequent.py : Contains Antecedent and Consequent classes.\u001b[39;00m\n\u001b[32m      3\u001b[39m \u001b[33;03m\"\"\"\u001b[39;00m\n\u001b[32m----> \u001b[39m\u001b[32m4\u001b[39m \u001b[38;5;28;01mimport\u001b[39;00m\u001b[38;5;250m \u001b[39m\u001b[34;01mnetworkx\u001b[39;00m\u001b[38;5;250m \u001b[39m\u001b[38;5;28;01mas\u001b[39;00m\u001b[38;5;250m \u001b[39m\u001b[34;01mnx\u001b[39;00m\n\u001b[32m      5\u001b[39m \u001b[38;5;28;01mimport\u001b[39;00m\u001b[38;5;250m \u001b[39m\u001b[34;01mnumpy\u001b[39;00m\u001b[38;5;250m \u001b[39m\u001b[38;5;28;01mas\u001b[39;00m\u001b[38;5;250m \u001b[39m\u001b[34;01mnp\u001b[39;00m\n\u001b[32m      7\u001b[39m \u001b[38;5;28;01mfrom\u001b[39;00m\u001b[38;5;250m \u001b[39m\u001b[34;01m.\u001b[39;00m\u001b[34;01mfuzzyvariable\u001b[39;00m\u001b[38;5;250m \u001b[39m\u001b[38;5;28;01mimport\u001b[39;00m FuzzyVariable\n",
      "\u001b[31mModuleNotFoundError\u001b[39m: No module named 'networkx'"
     ]
    }
   ],
   "source": [
    "import numpy as np\n",
    "import skfuzzy as fuzz\n",
    "from skfuzzy import control as ctrl\n",
    "import matplotlib.pyplot as plt  # Import matplotlib\n",
    "\n",
    "# Define fuzzy variables\n",
    "temperature = ctrl.Antecedent(np.arange(0, 41, 1), 'temperature')\n",
    "fan_speed = ctrl.Consequent(np.arange(0, 101, 1), 'fan_speed')\n",
    "\n",
    "# Define membership functions\n",
    "temperature['cold'] = fuzz.trimf(temperature.universe, [0, 0, 20])\n",
    "temperature['warm'] = fuzz.trimf(temperature.universe, [10, 20, 30])\n",
    "temperature['hot'] = fuzz.trimf(temperature.universe, [20, 40, 40])\n",
    "\n",
    "fan_speed['low'] = fuzz.trimf(fan_speed.universe, [0, 0, 50])\n",
    "fan_speed['medium'] = fuzz.trimf(fan_speed.universe, [0, 50, 100])\n",
    "fan_speed['high'] = fuzz.trimf(fan_speed.universe, [50, 100, 100])\n",
    "\n",
    "# Define fuzzy rules\n",
    "rule1 = ctrl.Rule(temperature['cold'], fan_speed['low'])\n",
    "rule2 = ctrl.Rule(temperature['warm'], fan_speed['medium'])\n",
    "rule3 = ctrl.Rule(temperature['hot'], fan_speed['high'])\n",
    "\n",
    "# Create the control system\n",
    "fan_ctrl = ctrl.ControlSystem([rule1, rule2, rule3])\n",
    "fan_speed_ctrl = ctrl.ControlSystemSimulation(fan_ctrl)\n",
    "\n",
    "# Input value\n",
    "fan_speed_ctrl.input['temperature'] = 25  # Example temperature value\n",
    "\n",
    "# Compute\n",
    "fan_speed_ctrl.compute()\n",
    "\n",
    "# Show results\n",
    "print(f\"Fan speed: {fan_speed_ctrl.output['fan_speed']:.2f}%\")\n",
    "\n",
    "# Visualize the results\n",
    "temperature.view()\n",
    "fan_speed.view()\n",
    "plt.show()"
   ]
  }
 ],
 "metadata": {
  "kernelspec": {
   "display_name": "Python 3",
   "language": "python",
   "name": "python3"
  },
  "language_info": {
   "codemirror_mode": {
    "name": "ipython",
    "version": 3
   },
   "file_extension": ".py",
   "mimetype": "text/x-python",
   "name": "python",
   "nbconvert_exporter": "python",
   "pygments_lexer": "ipython3",
   "version": "3.13.2"
  }
 },
 "nbformat": 4,
 "nbformat_minor": 2
}
