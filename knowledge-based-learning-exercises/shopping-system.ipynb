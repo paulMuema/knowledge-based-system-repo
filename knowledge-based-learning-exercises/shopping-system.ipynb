{
 "cells": [
  {
   "cell_type": "code",
   "execution_count": 1,
   "metadata": {},
   "outputs": [
    {
     "name": "stdout",
     "output_type": "stream",
     "text": [
      "Welcome to the Online Shopping Assistant!\n"
     ]
    },
    {
     "name": "stdout",
     "output_type": "stream",
     "text": [
      "Sorry, no products match your preferences: <f-1>\n",
      "\n",
      "No recommendations available based on your preferences.\n"
     ]
    }
   ],
   "source": [
    "import collections\n",
    "if not hasattr(collections, 'Mapping'):\n",
    "    import collections.abc\n",
    "    collections.Mapping = collections.abc.Mapping\n",
    "\n",
    "from experta import *\n",
    "\n",
    "# Define facts about the user preferences\n",
    "class UserPreference(Fact):\n",
    "    \"\"\"User preferences for the product recommendation.\"\"\"\n",
    "    pass\n",
    "\n",
    "# Knowledge-based system class\n",
    "class ShoppingAssistant(KnowledgeEngine):\n",
    "    # Define rules for recommending products\n",
    "\n",
    "    @Rule(UserPreference(category=\"electronics\", price=\"medium\", feature=\"battery life\"))\n",
    "    def recommend_laptop(self):\n",
    "        self.declare(Fact(recommendation=\"Laptop - Dell XPS 13, Medium price, Long battery life\"))\n",
    "\n",
    "    @Rule(UserPreference(category=\"electronics\", price=\"low\", feature=\"waterproof\"))\n",
    "    def recommend_smartphone(self):\n",
    "        self.declare(Fact(recommendation=\"Smartphone - Samsung Galaxy A53, Low price, Waterproof\"))\n",
    "\n",
    "    @Rule(UserPreference(category=\"clothing\", price=\"high\", feature=\"waterproof\"))\n",
    "    def recommend_jacket(self):\n",
    "        self.declare(Fact(recommendation=\"Jacket - North Face Rain Jacket, High price, Waterproof\"))\n",
    "\n",
    "    # Handle unknown combinations\n",
    "    @Rule(AS.pref << UserPreference())\n",
    "    def no_match(self, pref):\n",
    "        print(f\"Sorry, no products match your preferences: {pref}\")\n",
    "\n",
    "# Function to get user input\n",
    "def get_user_preferences():\n",
    "    print(\"Welcome to the Online Shopping Assistant!\")\n",
    "    category = input(\"What category are you looking for? (e.g., electronics, clothing): \").strip().lower()\n",
    "    price = input(\"What is your preferred price range? (e.g., low, medium, high): \").strip().lower()\n",
    "    feature = input(\"What features are important to you? (e.g., waterproof, battery life): \").strip().lower()\n",
    "    return {\"category\": category, \"price\": price, \"feature\": feature}\n",
    "\n",
    "# Main function\n",
    "def main():\n",
    "    # Create an instance of the knowledge engine\n",
    "    assistant = ShoppingAssistant()\n",
    "    assistant.reset()  # Reset the engine\n",
    "\n",
    "    # Get user preferences and declare them as facts\n",
    "    user_prefs = get_user_preferences()\n",
    "    assistant.declare(UserPreference(**user_prefs))\n",
    "\n",
    "    # Run the engine\n",
    "    assistant.run()\n",
    "\n",
    "    # Print recommendations\n",
    "    recommendations = [fact[\"recommendation\"] for fact in assistant.facts.values() if \"recommendation\" in fact]\n",
    "    if recommendations:\n",
    "        print(\"\\nWe recommend:\")\n",
    "        for rec in recommendations:\n",
    "            print(f\"- {rec}\")\n",
    "    else:\n",
    "        print(\"\\nNo recommendations available based on your preferences.\")\n",
    "\n",
    "if __name__ == \"__main__\":\n",
    "    main()\n",
    "\n",
    "class UserPreference(Fact):\n",
    "    \"\"\"User preferences for the product recommendation.\"\"\"\n",
    "    category = Field(str, mandatory=True)\n",
    "    price = Field(str, mandatory=True)\n",
    "    feature = Field(str, mandatory=True)\n",
    "    brand = Field(str, mandatory=False)\n",
    "    color = Field(str, mandatory=False)"
   ]
  }
 ],
 "metadata": {
  "kernelspec": {
   "display_name": "Python 3",
   "language": "python",
   "name": "python3"
  },
  "language_info": {
   "codemirror_mode": {
    "name": "ipython",
    "version": 3
   },
   "file_extension": ".py",
   "mimetype": "text/x-python",
   "name": "python",
   "nbconvert_exporter": "python",
   "pygments_lexer": "ipython3",
   "version": "3.13.1"
  }
 },
 "nbformat": 4,
 "nbformat_minor": 2
}
