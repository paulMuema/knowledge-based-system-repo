{
 "cells": [
  {
   "cell_type": "code",
   "execution_count": 3,
   "metadata": {},
   "outputs": [
    {
     "name": "stdout",
     "output_type": "stream",
     "text": [
      "Welcome to the Online Shopping Assistant!\n",
      "Sorry, no products match your preferences: <f-1>\n",
      "\n",
      "We recommend:\n",
      "- Wilson Pro Staff Tennis Racket - High price, Durable, Lightweight\n"
     ]
    }
   ],
   "source": [
    "import collections\n",
    "if not hasattr(collections, 'Mapping'):\n",
    "    import collections.abc\n",
    "    collections.Mapping = collections.abc.Mapping\n",
    "\n",
    "from experta import *\n",
    "\n",
    "# Define facts about user preferences\n",
    "class UserPreference(Fact):\n",
    "    \"\"\"User preferences for product recommendations.\"\"\"\n",
    "    pass\n",
    "\n",
    "# Knowledge-based system class\n",
    "class ShoppingAssistant(KnowledgeEngine):\n",
    "    # Define rules for recommending products\n",
    "\n",
    "    @Rule(UserPreference(category=\"gaming console\", price=\"medium\", feature=\"portable\"))\n",
    "    def recommend_gaming_console(self):\n",
    "        self.declare(Fact(recommendation=\"Nintendo Switch - Medium price, Portable, Great for multiplayer gaming\"))\n",
    "\n",
    "    @Rule(UserPreference(category=\"book\", price=\"low\", feature=\"fiction\"))\n",
    "    def recommend_book(self):\n",
    "        self.declare(Fact(recommendation=\"The Great Gatsby - Low price, Fiction, Hardcover edition\"))\n",
    "\n",
    "    @Rule(UserPreference(category=\"sports equipment\", price=\"high\", feature=\"durable\"))\n",
    "    def recommend_sports_equipment(self):\n",
    "        self.declare(Fact(recommendation=\"Wilson Pro Staff Tennis Racket - High price, Durable, Lightweight\"))\n",
    "\n",
    "    # Handle unknown combinations\n",
    "    @Rule(AS.pref << UserPreference())\n",
    "    def no_match(self, pref):\n",
    "        print(f\"Sorry, no products match your preferences: {pref}\")\n",
    "\n",
    "# Function to get user input\n",
    "def get_user_preferences():\n",
    "    print(\"Welcome to the Online Shopping Assistant!\")\n",
    "    category = input(\"What category are you looking for? (e.g., gaming console, book, sports equipment): \").strip().lower()\n",
    "    price = input(\"What is your preferred price range? (e.g., low, medium, high): \").strip().lower()\n",
    "    feature = input(\"What features are important to you? (e.g., portable, fiction, durable): \").strip().lower()\n",
    "    return {\"category\": category, \"price\": price, \"feature\": feature}\n",
    "\n",
    "# Main function\n",
    "def main():\n",
    "    # Create an instance of the knowledge engine\n",
    "    assistant = ShoppingAssistant()\n",
    "    assistant.reset()  # Reset the engine\n",
    "\n",
    "    # Get user preferences and declare them as facts\n",
    "    user_prefs = get_user_preferences()\n",
    "    assistant.declare(UserPreference(**user_prefs))\n",
    "\n",
    "    # Run the engine\n",
    "    assistant.run()\n",
    "\n",
    "    # Print recommendations\n",
    "    recommendations = [fact[\"recommendation\"] for fact in assistant.facts.values() if \"recommendation\" in fact]\n",
    "    if recommendations:\n",
    "        print(\"\\nWe recommend:\")\n",
    "        for rec in recommendations:\n",
    "            print(f\"- {rec}\")\n",
    "    else:\n",
    "        print(\"\\nNo recommendations available based on your preferences.\")\n",
    "\n",
    "if __name__ == \"__main__\":\n",
    "    main()\n"
   ]
  }
 ],
 "metadata": {
  "kernelspec": {
   "display_name": "Python 3",
   "language": "python",
   "name": "python3"
  },
  "language_info": {
   "codemirror_mode": {
    "name": "ipython",
    "version": 3
   },
   "file_extension": ".py",
   "mimetype": "text/x-python",
   "name": "python",
   "nbconvert_exporter": "python",
   "pygments_lexer": "ipython3",
   "version": "3.13.1"
  }
 },
 "nbformat": 4,
 "nbformat_minor": 2
}
